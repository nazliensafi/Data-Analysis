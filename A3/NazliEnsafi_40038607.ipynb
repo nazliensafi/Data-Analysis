{
 "cells": [
  {
   "cell_type": "markdown",
   "id": "17ae48d4",
   "metadata": {},
   "source": [
    "### Appliying Python and pandas for data wrangling:"
   ]
  },
  {
   "cell_type": "markdown",
   "id": "e0a395be",
   "metadata": {},
   "source": [
    "#### comp333, Assighnment 3, Nazli Ensafi, 40038607"
   ]
  },
  {
   "cell_type": "markdown",
   "id": "5c58e7de",
   "metadata": {},
   "source": [
    "The following workflos is the combination of what's suggested by Isaac Vidas in the video \"Data mining and integration with Python\" and what we learned in Lab8 tutorial Data Cleaning with OpenRefine for Ecology from datacarpentry.org"
   ]
  },
  {
   "cell_type": "markdown",
   "id": "bd882358",
   "metadata": {},
   "source": [
    "Workflow: \n",
    "1. Data Acquisition (Clean(leading or trailing spaces), Normalize(e.g. addresses, data types), Analyze(to see if it clean and normalyzes, if not go back to cleaning again)) \n",
    "2. Enrichment (aquiring more data from the existing data)\n",
    "3. Entity Resolution(remove duplicate content) \n",
    "4. Combine(save the result in a new dataframe)"
   ]
  },
  {
   "cell_type": "markdown",
   "id": "815e7cfa",
   "metadata": {},
   "source": [
    "### 1. Data Aquisition:"
   ]
  },
  {
   "cell_type": "code",
   "execution_count": 49,
   "id": "86056559",
   "metadata": {},
   "outputs": [
    {
     "name": "stdout",
     "output_type": "stream",
     "text": [
      "                              survey_id  recordID  mo  dy    yr  period  \\\n",
      "0  491ec41b-0a80-4ce9-b754-2983c6f38e71      6545   9  18  1982    62.0   \n",
      "1  f280bade-4e9b-447d-afe0-9e6d45e6bfb0      5220   1  24  1982    54.0   \n",
      "2  2b1b4a8a-c3e9-4781-a5f9-18b081383876     18932   8   7  1991   162.0   \n",
      "3  e98e66c4-514b-45f7-9d95-336c05a72b21     20588   1  24  1993   179.0   \n",
      "4  768cdd0d-93bc-4c74-9dcd-d1ed48b7501e      7020  11  21  1982    63.0   \n",
      "\n",
      "                                plot_id  plot  note1  stake  ...  tag note2  \\\n",
      "0  4dc16022-f28d-4b9d-9062-c7bc3ad43362    13   13.0   36.0  ...  NaN   NaN   \n",
      "1  dcbbd373-c22e-46ef-ae8b-ad88f5cf7475    20   13.0   27.0  ...  NaN   NaN   \n",
      "2  1e87b11b-4795-4f41-bdff-2d5c4412be25    19   13.0   33.0  ...  NaN   NaN   \n",
      "3  91829d58-c12e-47e8-ae31-185f46be21d2    12   13.0   41.0  ...  NaN   NaN   \n",
      "4  f24f2db6-eadd-4de9-9d2f-95aea376c013    24   13.0   72.0  ...  NaN   NaN   \n",
      "\n",
      "  ltag note3  prevrt  prevlet nestdir neststk note4 note5  \n",
      "0  NaN   NaN     NaN      NaN     NaN     NaN   NaN   NaN  \n",
      "1  NaN   NaN     NaN      NaN     NaN     NaN   NaN   NaN  \n",
      "2  NaN   NaN     NaN      NaN     NaN     NaN   NaN     D  \n",
      "3  NaN   NaN     NaN      NaN     NaN     NaN   NaN   NaN  \n",
      "4  NaN   NaN     NaN      NaN     NaN     NaN   NaN   NaN  \n",
      "\n",
      "[5 rows x 39 columns]\n"
     ]
    }
   ],
   "source": [
    "# read the csv file\n",
    "df = pd.read_csv('Portal_rodents_19772002_scinameUUIDs.csv', encoding='ISO-8859-1', low_memory=False)\n",
    "print(df.head())\n"
   ]
  },
  {
   "cell_type": "markdown",
   "id": "0227dd35",
   "metadata": {},
   "source": [
    "#### 1.1. Clean"
   ]
  },
  {
   "cell_type": "code",
   "execution_count": 50,
   "id": "e7a55955",
   "metadata": {},
   "outputs": [
    {
     "name": "stdout",
     "output_type": "stream",
     "text": [
      "                              survey_id  recordID  mo  dy    yr  period  \\\n",
      "0  491ec41b-0a80-4ce9-b754-2983c6f38e71      6545   9  18  1982    62.0   \n",
      "1  f280bade-4e9b-447d-afe0-9e6d45e6bfb0      5220   1  24  1982    54.0   \n",
      "2  2b1b4a8a-c3e9-4781-a5f9-18b081383876     18932   8   7  1991   162.0   \n",
      "3  e98e66c4-514b-45f7-9d95-336c05a72b21     20588   1  24  1993   179.0   \n",
      "4  768cdd0d-93bc-4c74-9dcd-d1ed48b7501e      7020  11  21  1982    63.0   \n",
      "\n",
      "                                plot_id  plot  note1  stake  ...  tag note2  \\\n",
      "0  4dc16022-f28d-4b9d-9062-c7bc3ad43362    13   13.0   36.0  ...  NaN   NaN   \n",
      "1  dcbbd373-c22e-46ef-ae8b-ad88f5cf7475    20   13.0   27.0  ...  NaN   NaN   \n",
      "2  1e87b11b-4795-4f41-bdff-2d5c4412be25    19   13.0   33.0  ...  NaN   NaN   \n",
      "3  91829d58-c12e-47e8-ae31-185f46be21d2    12   13.0   41.0  ...  NaN   NaN   \n",
      "4  f24f2db6-eadd-4de9-9d2f-95aea376c013    24   13.0   72.0  ...  NaN   NaN   \n",
      "\n",
      "  ltag note3  prevrt  prevlet nestdir neststk note4 note5  \n",
      "0  NaN   NaN     NaN      NaN     NaN     NaN   NaN   NaN  \n",
      "1  NaN   NaN     NaN      NaN     NaN     NaN   NaN   NaN  \n",
      "2  NaN   NaN     NaN      NaN     NaN     NaN   NaN     D  \n",
      "3  NaN   NaN     NaN      NaN     NaN     NaN   NaN   NaN  \n",
      "4  NaN   NaN     NaN      NaN     NaN     NaN   NaN   NaN  \n",
      "\n",
      "[5 rows x 39 columns]\n"
     ]
    }
   ],
   "source": [
    "# Trim leading and trailing whitespace in all columns\n",
    "df = df.apply(lambda x: x.str.strip() if x.dtype == \"object\" else x)\n",
    "# Print the modified DataFrame\n",
    "print(df.head())"
   ]
  },
  {
   "cell_type": "markdown",
   "id": "456b088b",
   "metadata": {},
   "source": [
    "#### 1.2. Normalize"
   ]
  },
  {
   "cell_type": "code",
   "execution_count": 51,
   "id": "29da1f39",
   "metadata": {
    "scrolled": true
   },
   "outputs": [
    {
     "name": "stdout",
     "output_type": "stream",
     "text": [
      "survey_id            object\n",
      "recordID              int64\n",
      "mo                    int64\n",
      "dy                    int64\n",
      "yr                    int64\n",
      "period              float64\n",
      "plot_id              object\n",
      "plot                  int64\n",
      "note1               float64\n",
      "stake               float64\n",
      "species              object\n",
      "scientificName       object\n",
      "locality             object\n",
      "JSON                 object\n",
      "decimalLatitude     float64\n",
      "decimalLongitude    float64\n",
      "county               object\n",
      "state                object\n",
      "country              object\n",
      "sex                  object\n",
      "age                  object\n",
      "reprod               object\n",
      "testes               object\n",
      "vagina               object\n",
      "pregnant             object\n",
      "nipples              object\n",
      "lactation            object\n",
      "hfl                 float64\n",
      "wgt                 float64\n",
      "tag                  object\n",
      "note2                object\n",
      "ltag                 object\n",
      "note3                object\n",
      "prevrt               object\n",
      "prevlet             float64\n",
      "nestdir              object\n",
      "neststk             float64\n",
      "note4                object\n",
      "note5                object\n",
      "dtype: object\n"
     ]
    }
   ],
   "source": [
    "print(df.dtypes)"
   ]
  },
  {
   "cell_type": "code",
   "execution_count": 52,
   "id": "49135cb8",
   "metadata": {
    "scrolled": true
   },
   "outputs": [
    {
     "name": "stdout",
     "output_type": "stream",
     "text": [
      "survey_id               0\n",
      "recordID                0\n",
      "mo                      0\n",
      "dy                      0\n",
      "yr                      0\n",
      "period                  0\n",
      "plot_id                 0\n",
      "plot                    0\n",
      "note1               31957\n",
      "stake                  70\n",
      "species              2015\n",
      "scientificName      15318\n",
      "locality            34874\n",
      "JSON                35483\n",
      "decimalLatitude     35489\n",
      "decimalLongitude    35489\n",
      "county              35453\n",
      "state               35183\n",
      "country             34871\n",
      "sex                  2506\n",
      "age                 20103\n",
      "reprod              33898\n",
      "testes              25857\n",
      "vagina              33952\n",
      "pregnant            34327\n",
      "nipples             30521\n",
      "lactation           35423\n",
      "hfl                  4111\n",
      "wgt                  3266\n",
      "tag                  2324\n",
      "note2               30965\n",
      "ltag                 1901\n",
      "note3               35533\n",
      "prevrt               1780\n",
      "prevlet              2071\n",
      "nestdir             33718\n",
      "neststk             30113\n",
      "note4               34908\n",
      "note5               32451\n",
      "dtype: int64\n"
     ]
    }
   ],
   "source": [
    "# Get count of empty values in each column\n",
    "empty_values = df.isna().sum()\n",
    "\n",
    "# Print the empty values for each column\n",
    "print(empty_values)"
   ]
  },
  {
   "cell_type": "markdown",
   "id": "cdf43134",
   "metadata": {},
   "source": [
    "Replace empty values with proper data types:"
   ]
  },
  {
   "cell_type": "code",
   "execution_count": 53,
   "id": "1b0a13f0",
   "metadata": {},
   "outputs": [],
   "source": [
    "\n",
    "import numpy as np\n",
    "\n",
    "# Replace empty values in all columns with NaN\n",
    "df = df.replace(r'^\\s*$', np.nan, regex=True)\n",
    "\n",
    "# Replace NaN values in numeric columns with 0\n",
    "numeric_cols = df.select_dtypes(include=['float64', 'int64']).columns\n",
    "df[numeric_cols] = df[numeric_cols].fillna(0)\n",
    "\n",
    "# Replace NaN values in string columns with empty string\n",
    "string_cols = df.select_dtypes(include=['object']).columns\n",
    "df[string_cols] = df[string_cols].fillna('')"
   ]
  },
  {
   "cell_type": "markdown",
   "id": "4fe58eb6",
   "metadata": {},
   "source": [
    "Change the datatypes of columns (period, note1, stake from \"float 64\" to \"int 64\"):"
   ]
  },
  {
   "cell_type": "code",
   "execution_count": 54,
   "id": "95b47338",
   "metadata": {},
   "outputs": [
    {
     "name": "stdout",
     "output_type": "stream",
     "text": [
      "                              survey_id  recordID  mo  dy    yr  period  \\\n",
      "0  491ec41b-0a80-4ce9-b754-2983c6f38e71      6545   9  18  1982      62   \n",
      "1  f280bade-4e9b-447d-afe0-9e6d45e6bfb0      5220   1  24  1982      54   \n",
      "2  2b1b4a8a-c3e9-4781-a5f9-18b081383876     18932   8   7  1991     162   \n",
      "3  e98e66c4-514b-45f7-9d95-336c05a72b21     20588   1  24  1993     179   \n",
      "4  768cdd0d-93bc-4c74-9dcd-d1ed48b7501e      7020  11  21  1982      63   \n",
      "\n",
      "                                plot_id  plot  note1  stake  ... tag note2  \\\n",
      "0  4dc16022-f28d-4b9d-9062-c7bc3ad43362    13     13     36  ...             \n",
      "1  dcbbd373-c22e-46ef-ae8b-ad88f5cf7475    20     13     27  ...             \n",
      "2  1e87b11b-4795-4f41-bdff-2d5c4412be25    19     13     33  ...             \n",
      "3  91829d58-c12e-47e8-ae31-185f46be21d2    12     13     41  ...             \n",
      "4  f24f2db6-eadd-4de9-9d2f-95aea376c013    24     13     72  ...             \n",
      "\n",
      "  ltag note3  prevrt  prevlet nestdir neststk note4 note5  \n",
      "0                         0.0             0.0              \n",
      "1                         0.0             0.0              \n",
      "2                         0.0             0.0           D  \n",
      "3                         0.0             0.0              \n",
      "4                         0.0             0.0              \n",
      "\n",
      "[5 rows x 39 columns]\n"
     ]
    }
   ],
   "source": [
    "\n",
    "# Convert columns to int64 datatype\n",
    "df['period'] = df['period'].astype('int64')\n",
    "df['note1'] = df['note1'].astype('int64')\n",
    "df['stake'] = df['stake'].astype('int64')\n",
    "\n",
    "# Print the modified DataFrame\n",
    "print(df.head())"
   ]
  },
  {
   "cell_type": "markdown",
   "id": "649359ef",
   "metadata": {},
   "source": [
    "#### 1.3. Analyze"
   ]
  },
  {
   "cell_type": "code",
   "execution_count": 55,
   "id": "27ec7a13",
   "metadata": {},
   "outputs": [
    {
     "name": "stdout",
     "output_type": "stream",
     "text": [
      "survey_id           0\n",
      "recordID            0\n",
      "mo                  0\n",
      "dy                  0\n",
      "yr                  0\n",
      "period              0\n",
      "plot_id             0\n",
      "plot                0\n",
      "note1               0\n",
      "stake               0\n",
      "species             0\n",
      "scientificName      0\n",
      "locality            0\n",
      "JSON                0\n",
      "decimalLatitude     0\n",
      "decimalLongitude    0\n",
      "county              0\n",
      "state               0\n",
      "country             0\n",
      "sex                 0\n",
      "age                 0\n",
      "reprod              0\n",
      "testes              0\n",
      "vagina              0\n",
      "pregnant            0\n",
      "nipples             0\n",
      "lactation           0\n",
      "hfl                 0\n",
      "wgt                 0\n",
      "tag                 0\n",
      "note2               0\n",
      "ltag                0\n",
      "note3               0\n",
      "prevrt              0\n",
      "prevlet             0\n",
      "nestdir             0\n",
      "neststk             0\n",
      "note4               0\n",
      "note5               0\n",
      "dtype: int64\n"
     ]
    }
   ],
   "source": [
    "# Get count of empty values in each column\n",
    "empty_values = df.isna().sum()\n",
    "\n",
    "# Print the empty values for each column\n",
    "print(empty_values)"
   ]
  },
  {
   "cell_type": "markdown",
   "id": "f25233e9",
   "metadata": {},
   "source": [
    "Normalizng the scientificName column by clustering the values and making each cluster have a unique name across the cluster"
   ]
  },
  {
   "cell_type": "markdown",
   "id": "696d0711",
   "metadata": {},
   "source": [
    "### 3. Entity Resolution(remove duplicate content)"
   ]
  },
  {
   "cell_type": "code",
   "execution_count": 56,
   "id": "78dd2e82",
   "metadata": {},
   "outputs": [
    {
     "data": {
      "text/plain": [
       "{'',\n",
       " 'Ammodramus savannarum',\n",
       " 'Ammospermophilis harrisi',\n",
       " 'Ammospermophilus harrisi',\n",
       " 'Ammospermophilus harrisii',\n",
       " 'Amphespiza bilineata',\n",
       " 'Amphispiza bilineata',\n",
       " 'Amphispiza bilineatus',\n",
       " 'Amphispiza cilineata',\n",
       " 'Amphispizo bilineata',\n",
       " 'Baiomys taylori',\n",
       " 'Calamospiza melanocorys',\n",
       " 'Callipepla squamata',\n",
       " 'Campylorhynchus brunneicapillus',\n",
       " 'Chaetodipus baileyi',\n",
       " 'Cnemidophorus tigris',\n",
       " 'Cnemidophorus uniparens',\n",
       " 'Crotalus scutalatus',\n",
       " 'Crotalus viridis',\n",
       " 'Dipodomys merriami',\n",
       " 'Dipodomys ordii',\n",
       " 'Dipodomys spectabilis',\n",
       " 'Dipodomys\\xa0sp.',\n",
       " 'Emphispiza bilinata',\n",
       " 'Onychomys leucogaster',\n",
       " 'Onychomys torridus',\n",
       " 'Onychomys\\xa0sp.'}"
      ]
     },
     "execution_count": 56,
     "metadata": {},
     "output_type": "execute_result"
    }
   ],
   "source": [
    "set(df['scientificName'])"
   ]
  },
  {
   "cell_type": "markdown",
   "id": "50d7d101",
   "metadata": {},
   "source": [
    "In the current dataframe there are 27 unique values in the scientificName column, including an empty value. A quick investigation shows that the some values have typos and/or several versions stored. The correct set is the following, and we need to correct the data accordingly."
   ]
  },
  {
   "cell_type": "code",
   "execution_count": 57,
   "id": "89847364",
   "metadata": {},
   "outputs": [
    {
     "data": {
      "text/plain": [
       "19"
      ]
     },
     "execution_count": 57,
     "metadata": {},
     "output_type": "execute_result"
    }
   ],
   "source": [
    "len([\"Ammodramus savannarum\", \"Ammospermophilus harrisii\", \"Amphispiza bilineata\", \n",
    "       \"Baiomys taylori\", \"Calamospiza melanocorys\", \"Callipepla squamata\", \n",
    "       \"Campylorhynchus brunneicapillus\", \"Chaetodipus baileyi\", \"Cnemidophorus tigris\", \n",
    "       \"Aspidoscelis uniparens\", \"Crotalus scutulatus\", \"Crotalus viridis\", \n",
    "       \"Dipodomys merriami\", \"Dipodomys ordii\", \"Dipodomys spectabilis\", \"Dipodomys\", \n",
    "       \"Onychomys leucogaster\", \"Onychomys torridus\", \"Onychomys\"])"
   ]
  },
  {
   "cell_type": "markdown",
   "id": "ec9229ae",
   "metadata": {},
   "source": [
    "Let's correct data reagarding the name \"Amphispiza bilineata\", \"Ammospermophilus harrisii\", \"Onychomys\" and \"Dipodomys\":"
   ]
  },
  {
   "cell_type": "code",
   "execution_count": 58,
   "id": "42549ae8",
   "metadata": {},
   "outputs": [
    {
     "data": {
      "text/plain": [
       "{'',\n",
       " 'Ammodramus savannarum',\n",
       " 'Ammospermophilus harrisii',\n",
       " 'Amphispiza bilineata',\n",
       " 'Baiomys taylori',\n",
       " 'Calamospiza melanocorys',\n",
       " 'Callipepla squamata',\n",
       " 'Campylorhynchus brunneicapillus',\n",
       " 'Chaetodipus baileyi',\n",
       " 'Cnemidophorus tigris',\n",
       " 'Cnemidophorus uniparens',\n",
       " 'Crotalus scutalatus',\n",
       " 'Crotalus viridis',\n",
       " 'Dipodomys',\n",
       " 'Dipodomys merriami',\n",
       " 'Dipodomys ordii',\n",
       " 'Dipodomys spectabilis',\n",
       " 'Onychomys',\n",
       " 'Onychomys leucogaster',\n",
       " 'Onychomys torridus'}"
      ]
     },
     "execution_count": 58,
     "metadata": {},
     "output_type": "execute_result"
    }
   ],
   "source": [
    "#import pandas as pd\n",
    "\n",
    "# create a dictionary of old values and new value\n",
    "replace_dict = {'Amphespiza bilineata': 'Amphispiza bilineata',\n",
    "                'Amphispiza bilineatus': 'Amphispiza bilineata',\n",
    "                'Amphispiza cilineata': 'Amphispiza bilineata',\n",
    "                'Amphispizo bilineata': 'Amphispiza bilineata',\n",
    "                'Emphispiza bilinata': 'Amphispiza bilineata',\n",
    "               'Ammospermophilis harrisi': 'Ammospermophilus harrisii',\n",
    "               'Ammospermophilus harrisi': 'Ammospermophilus harrisii',\n",
    "               'Onychomys\\xa0sp.': 'Onychomys',\n",
    "               'Dipodomys\\xa0sp.': 'Dipodomys'}\n",
    "\n",
    "# replace the old values with the new value\n",
    "df['scientificName'] = df['scientificName'].replace(replace_dict)\n",
    "\n",
    "set(df['scientificName'])"
   ]
  },
  {
   "cell_type": "markdown",
   "id": "96f34a40",
   "metadata": {},
   "source": [
    "### 2. Enrichment (splitting scientificName into genus and species column)"
   ]
  },
  {
   "cell_type": "code",
   "execution_count": 59,
   "id": "8172fe1d",
   "metadata": {},
   "outputs": [
    {
     "name": "stdout",
     "output_type": "stream",
     "text": [
      "                                  survey_id  recordID  mo  dy    yr  period  \\\n",
      "0      491ec41b-0a80-4ce9-b754-2983c6f38e71      6545   9  18  1982      62   \n",
      "1      f280bade-4e9b-447d-afe0-9e6d45e6bfb0      5220   1  24  1982      54   \n",
      "2      2b1b4a8a-c3e9-4781-a5f9-18b081383876     18932   8   7  1991     162   \n",
      "3      e98e66c4-514b-45f7-9d95-336c05a72b21     20588   1  24  1993     179   \n",
      "4      768cdd0d-93bc-4c74-9dcd-d1ed48b7501e      7020  11  21  1982      63   \n",
      "...                                     ...       ...  ..  ..   ...     ...   \n",
      "35544  5e05640b-d193-482a-9e8d-10608f4e810b     35542  12  31  2002     295   \n",
      "35545  a6bbdcbb-2c0a-4d3f-85a0-62a73270a108     35543  12  31  2002     295   \n",
      "35546  67137ae7-0919-49c3-bd8f-4afda8162994     35544  12  31  2002     295   \n",
      "35547  2bcb411b-9e81-42f6-a8db-aff0f863b564     35547  12  31  2002     295   \n",
      "35548  d73a21e7-c8c2-4d00-83b6-015b597061e9     35549  12  31  2002     295   \n",
      "\n",
      "                                    plot_id  plot  note1  stake  ...     tag  \\\n",
      "0      4dc16022-f28d-4b9d-9062-c7bc3ad43362    13     13     36  ...           \n",
      "1      dcbbd373-c22e-46ef-ae8b-ad88f5cf7475    20     13     27  ...           \n",
      "2      1e87b11b-4795-4f41-bdff-2d5c4412be25    19     13     33  ...           \n",
      "3      91829d58-c12e-47e8-ae31-185f46be21d2    12     13     41  ...           \n",
      "4      f24f2db6-eadd-4de9-9d2f-95aea376c013    24     13     72  ...           \n",
      "...                                     ...   ...    ...    ...  ...     ...   \n",
      "35544  6a090985-a7ce-4c04-b146-9b401d1dd796    15      0     23  ...  0F7659   \n",
      "35545  6a090985-a7ce-4c04-b146-9b401d1dd796    15      0     77  ...  701178   \n",
      "35546  6a090985-a7ce-4c04-b146-9b401d1dd796    15      0     64  ...           \n",
      "35547  c85de67c-1590-4129-8953-0c530a565585    10      0     32  ...           \n",
      "35548  c5e12154-6677-4d6c-8feb-52355cbc1f78     5      2     99  ...           \n",
      "\n",
      "      note2 ltag note3 prevrt  prevlet  nestdir neststk note4 note5  \n",
      "0                                  0.0              0.0              \n",
      "1                                  0.0              0.0              \n",
      "2                                  0.0              0.0           D  \n",
      "3                                  0.0              0.0              \n",
      "4                                  0.0              0.0              \n",
      "...     ...  ...   ...    ...      ...      ...     ...   ...   ...  \n",
      "35544          0            0      0.0              0.0              \n",
      "35545          0            0      0.0              0.0              \n",
      "35546                              0.0              0.0              \n",
      "35547          0            0      0.0              0.0    UT        \n",
      "35548                              0.0              0.0              \n",
      "\n",
      "[35549 rows x 40 columns]\n"
     ]
    }
   ],
   "source": [
    "# split the 'scientificName' column into two columns using str.split()\n",
    "df[['genus', 'species']] = df['scientificName'].str.split(' ', n=1, expand=True)\n",
    "\n",
    "# insert the new columns immediately after 'scientificName'\n",
    "df.insert(loc=df.columns.get_loc('scientificName')+1, column='genus', value=df.pop('genus'))\n",
    "df.insert(loc=df.columns.get_loc('scientificName')+2, column='species', value=df.pop('species'))\n",
    "\n",
    "# print the updated DataFrame\n",
    "print(df)\n"
   ]
  },
  {
   "cell_type": "code",
   "execution_count": 60,
   "id": "19c06429",
   "metadata": {},
   "outputs": [
    {
     "data": {
      "text/plain": [
       "0              Amphispiza\n",
       "1              Amphispiza\n",
       "2              Ammodramus\n",
       "3              Ammodramus\n",
       "4        Ammospermophilus\n",
       "               ...       \n",
       "35544                    \n",
       "35545                    \n",
       "35546                    \n",
       "35547                    \n",
       "35548                    \n",
       "Name: genus, Length: 35549, dtype: object"
      ]
     },
     "execution_count": 60,
     "metadata": {},
     "output_type": "execute_result"
    }
   ],
   "source": [
    "df['genus']"
   ]
  },
  {
   "cell_type": "code",
   "execution_count": 61,
   "id": "c03eb5ee",
   "metadata": {},
   "outputs": [
    {
     "data": {
      "text/plain": [
       "0         bilineata\n",
       "1         bilineata\n",
       "2        savannarum\n",
       "3        savannarum\n",
       "4          harrisii\n",
       "            ...    \n",
       "35544          None\n",
       "35545          None\n",
       "35546          None\n",
       "35547          None\n",
       "35548          None\n",
       "Name: species, Length: 35549, dtype: object"
      ]
     },
     "execution_count": 61,
     "metadata": {},
     "output_type": "execute_result"
    }
   ],
   "source": [
    "df['species']"
   ]
  },
  {
   "cell_type": "markdown",
   "id": "0d1b92c3",
   "metadata": {},
   "source": [
    "### 4. Combine(save the result in a new dataframe)"
   ]
  },
  {
   "cell_type": "code",
   "execution_count": 62,
   "id": "d96ecbef",
   "metadata": {},
   "outputs": [],
   "source": [
    "# save the DataFrame to a CSV file\n",
    "df.to_csv('clean_data.csv', index=False)"
   ]
  },
  {
   "cell_type": "code",
   "execution_count": null,
   "id": "4e3f6483",
   "metadata": {},
   "outputs": [],
   "source": []
  }
 ],
 "metadata": {
  "kernelspec": {
   "display_name": "Python 3 (ipykernel)",
   "language": "python",
   "name": "python3"
  },
  "language_info": {
   "codemirror_mode": {
    "name": "ipython",
    "version": 3
   },
   "file_extension": ".py",
   "mimetype": "text/x-python",
   "name": "python",
   "nbconvert_exporter": "python",
   "pygments_lexer": "ipython3",
   "version": "3.9.5"
  }
 },
 "nbformat": 4,
 "nbformat_minor": 5
}
