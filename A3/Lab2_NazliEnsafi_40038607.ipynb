{
 "cells": [
  {
   "cell_type": "markdown",
   "id": "34ab6a54",
   "metadata": {},
   "source": [
    "Lab#2 Nazli Ensafi, ID# 40038607"
   ]
  },
  {
   "cell_type": "code",
   "execution_count": 84,
   "id": "a7dfc251",
   "metadata": {},
   "outputs": [],
   "source": [
    "import csv\n",
    "from statistics import *"
   ]
  },
  {
   "cell_type": "code",
   "execution_count": 85,
   "id": "2cce9ce2",
   "metadata": {},
   "outputs": [
    {
     "name": "stdout",
     "output_type": "stream",
     "text": [
      "Joe, Allan, 2500\n"
     ]
    }
   ],
   "source": [
    "# creating class\n",
    "class Employee:\n",
    "    \n",
    "    def __init__(self, first, last, pay):\n",
    "        self.first = first\n",
    "        self.last = last\n",
    "        self.pay = pay\n",
    "    \n",
    "    def emp_data(self):\n",
    "        return '{}, {}, {}'.format(self.first, self.last, self.pay)\n",
    "    \n",
    "    def __iter__(self):\n",
    "        return iter([self.first, self.last, self.pay])\n",
    "\n",
    "\n",
    "print(emp_1.emp_data())"
   ]
  },
  {
   "cell_type": "code",
   "execution_count": 86,
   "id": "b8ecf2e3",
   "metadata": {},
   "outputs": [],
   "source": [
    "#creaye intances \n",
    "emp_1 = Employee('Joe', 'Allan', 2500)\n",
    "emp_2 = Employee('Sue', 'Peterson', 3500)\n",
    "emp_3 = Employee('Raul', 'Robert', 5000)\n",
    "emp_4 = Employee('Neil', 'Cadieux-E', 10000)\n",
    "emp_5 = Employee('Marcella', 'Silveira', 4500)\n"
   ]
  },
  {
   "cell_type": "code",
   "execution_count": 87,
   "id": "203724af",
   "metadata": {},
   "outputs": [],
   "source": [
    "employee_list = [emp_1, emp_2, emp_3, emp_4, emp_5]"
   ]
  },
  {
   "cell_type": "code",
   "execution_count": 88,
   "id": "b2423560",
   "metadata": {},
   "outputs": [],
   "source": [
    "#creating a CSV file out of the employee instances\n",
    "header = ['first name', 'family name', 'pay']\n",
    "with open('employees.csv', 'w') as f:\n",
    "    writer = csv.writer(f)\n",
    "    writer.writerow(header)\n",
    "\n",
    "    for employee in employee_list:\n",
    "        writer.writerow([employee.first, employee.last, employee.pay])\n"
   ]
  },
  {
   "cell_type": "code",
   "execution_count": 89,
   "id": "5b082fe3",
   "metadata": {},
   "outputs": [
    {
     "name": "stdout",
     "output_type": "stream",
     "text": [
      "['first name', 'family name', 'pay']\n",
      "['Joe', 'Allan', '2500']\n",
      "['Sue', 'Peterson', '3500']\n",
      "['Raul', 'Robert', '5000']\n",
      "['Neil', 'Cadieux-E', '10000']\n",
      "['Marcella', 'Silveira', '4500']\n"
     ]
    }
   ],
   "source": [
    "#checking to see if the CSV file was created successfully\n",
    "with open('employees.csv', 'r') as file:\n",
    "    reader = csv.reader(file)\n",
    "    for row in reader:\n",
    "        print(row)"
   ]
  },
  {
   "cell_type": "code",
   "execution_count": 90,
   "id": "69fed9c4",
   "metadata": {},
   "outputs": [
    {
     "name": "stdout",
     "output_type": "stream",
     "text": [
      "['2500', '3500', '5000', '10000', '4500']\n"
     ]
    }
   ],
   "source": [
    "#accessing pays from the CSV file we created \n",
    "\n",
    "with open('employees.csv') as file:\n",
    "    reader = csv.DictReader(file)\n",
    "    \n",
    "    pay_list = []\n",
    "    \n",
    "    for row in reader:\n",
    "        pay_list.append(row['pay'])\n",
    "        \n",
    "    print(pay_list)"
   ]
  },
  {
   "cell_type": "markdown",
   "id": "1ca87a6c",
   "metadata": {},
   "source": [
    "Total pay and Average pay: "
   ]
  },
  {
   "cell_type": "code",
   "execution_count": 91,
   "id": "82628afe",
   "metadata": {},
   "outputs": [
    {
     "name": "stdout",
     "output_type": "stream",
     "text": [
      "[2500.0, 3500.0, 5000.0, 10000.0, 4500.0]\n",
      "5100.0\n"
     ]
    }
   ],
   "source": [
    "#converting pay types from string to flost using map\n",
    "pay_list =list(map(float, pay_list))\n",
    "print(pay_list)\n",
    "print(mean(pay_list))"
   ]
  },
  {
   "cell_type": "code",
   "execution_count": 92,
   "id": "dae35a87",
   "metadata": {},
   "outputs": [
    {
     "name": "stdout",
     "output_type": "stream",
     "text": [
      "25500.0\n"
     ]
    }
   ],
   "source": [
    "print(sum(pay_list))"
   ]
  },
  {
   "cell_type": "code",
   "execution_count": null,
   "id": "ed646659",
   "metadata": {},
   "outputs": [],
   "source": []
  }
 ],
 "metadata": {
  "kernelspec": {
   "display_name": "Python 3 (ipykernel)",
   "language": "python",
   "name": "python3"
  },
  "language_info": {
   "codemirror_mode": {
    "name": "ipython",
    "version": 3
   },
   "file_extension": ".py",
   "mimetype": "text/x-python",
   "name": "python",
   "nbconvert_exporter": "python",
   "pygments_lexer": "ipython3",
   "version": "3.9.5"
  }
 },
 "nbformat": 4,
 "nbformat_minor": 5
}
